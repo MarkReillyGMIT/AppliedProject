{
 "cells": [
  {
   "cell_type": "code",
   "execution_count": null,
   "id": "central-carrier",
   "metadata": {},
   "outputs": [],
   "source": [
    "#Importing the required libaries\n",
    "import pandas as pd\n",
    "import numpy as np\n",
    "import sklearn as sk\n",
    "from sklearn import datasets, linear_model\n",
    "from sklearn.linear_model import LinearRegression as lm\n",
    "from sklearn.model_selection import train_test_split\n",
    "import matplotlib.pyplot as plt"
   ]
  },
  {
   "cell_type": "code",
   "execution_count": null,
   "id": "aerial-pakistan",
   "metadata": {
    "scrolled": true
   },
   "outputs": [],
   "source": [
    "# Read the cleaned data\n",
    "data = pd.read_csv(\"./Athenry2010-2021.csv\")\n",
    "\n",
    "data =data[data['cbl'].str.strip().astype(bool)]\n",
    "\n",
    "y=data.rain\n",
    "x=data.drop('rain',axis=1)\n",
    "\n",
    "x_train,x_test,y_train,y_test=train_test_split(x,y,test_size=0.2)\n",
    "\n",
    "x_train.head()\n",
    "\n",
    "x_train.shape\n",
    "\n",
    "x_test.head()\n",
    "\n",
    "x_test.shape\n",
    "\n",
    "model=lm().fit(x_train,y_train)\n",
    "predictions=model.predict(x_test)\n",
    "\n",
    "day_index = 798\n",
    "days = [i for i in range(Y.size)]\n"
   ]
  },
  {
   "cell_type": "code",
   "execution_count": 4,
   "id": "present-supplement",
   "metadata": {},
   "outputs": [
    {
     "output_type": "stream",
     "name": "stdout",
     "text": [
      "The Mean Absolute Error: 3.21 mm of rainfall\nThe Median Absolute Error: 2.25 mm of rainfall\n"
     ]
    }
   ],
   "source": [
    "from sklearn.metrics import mean_absolute_error, median_absolute_error\n",
    "print(\"The Mean Absolute Error: %.2f mm of rainfall\" % mean_absolute_error(y_test, predictions))\n",
    "print(\"The Median Absolute Error: %.2f mm of rainfall\" % median_absolute_error(y_test, predictions))"
   ]
  },
  {
   "cell_type": "code",
   "execution_count": null,
   "id": "knowing-advantage",
   "metadata": {},
   "outputs": [],
   "source": []
  }
 ],
 "metadata": {
  "kernelspec": {
   "name": "python385jvsc74a57bd0b6d081eb709da3c6a1df0c912e59b9f8f1c19299ea877f6073c93cde57a3f6d4",
   "display_name": "Python 3.8.5 64-bit ('base': conda)"
  },
  "language_info": {
   "codemirror_mode": {
    "name": "ipython",
    "version": 3
   },
   "file_extension": ".py",
   "mimetype": "text/x-python",
   "name": "python",
   "nbconvert_exporter": "python",
   "pygments_lexer": "ipython3",
   "version": "3.8.5"
  }
 },
 "nbformat": 4,
 "nbformat_minor": 5
}