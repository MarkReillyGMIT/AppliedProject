{
 "cells": [
  {
   "cell_type": "code",
   "execution_count": 121,
   "id": "central-carrier",
   "metadata": {},
   "outputs": [],
   "source": [
    "#Importing the required libaries\n",
    "import pandas as pd\n",
    "import numpy as np\n",
    "import sklearn as sk\n",
    "from sklearn import datasets, linear_model\n",
    "from sklearn.linear_model import LinearRegression as lm\n",
    "from sklearn.model_selection import train_test_split\n",
    "import matplotlib.pyplot as plt"
   ]
  },
  {
   "cell_type": "code",
   "execution_count": 126,
   "id": "aerial-pakistan",
   "metadata": {
    "scrolled": true
   },
   "outputs": [],
   "source": [
    "# Read the cleaned data\n",
    "data = pd.read_csv(\"./Athenry2010-2021.csv\")\n",
    "\n",
    "data =data[data['cbl'].str.strip().astype(bool)]\n",
    "\n",
    "y=data.rain\n",
    "x=data.drop('rain',axis=1)\n",
    "\n",
    "x_train,x_test,y_train,y_test=train_test_split(x,y,test_size=0.2)\n",
    "\n",
    "x_train.head()\n",
    "\n",
    "x_train.shape\n",
    "\n",
    "x_test.head()\n",
    "\n",
    "x_test.shape\n",
    "\n",
    "model=lm().fit(x_train,y_train)\n",
    "predictions=model.predict(x_test)\n",
    "\n",
    "#print(\"predicted\", predictions)\n",
    "\n",
    "#----------------------------------\n",
    "#X = data.drop(['rain'], axis=1)\n",
    "#X = data.drop(['Unnamed: 0'], axis=1)\n",
    "\n",
    "#print(X)\n",
    "\n",
    "\n",
    "#Y = data['rain']\n",
    "#Y = Y.values.reshape(-1,1)\n",
    "#print(Y)\n",
    "\n",
    "#print(Y)\n",
    "day_index = 798\n",
    "days = [i for i in range(Y.size)]\n",
    "\n",
    "#clf = LinearRegression()\n",
    "#clf.fit(X, Y)\n",
    "\n",
    "#X_train, X_test, y_train, y_test = train_test_split(data, Y, test_size=0.2)\n",
    "#print (X_train.shape, y_train.shape)\n",
    "#print (X_test.shape, y_test.shape)\n",
    "\n",
    "#input = np.array([[7.6], [1.8], [983.8], [8.3], [14], [230])\n",
    "\n",
    "#input = input.reshape(1,-1)\n",
    "\n",
    "#print(\"Predict\")\n",
    "#print(clf.predict(X_test))\n",
    "#---------------------------"
   ]
  },
  {
   "cell_type": "code",
   "execution_count": 132,
   "id": "present-supplement",
   "metadata": {},
   "outputs": [
    {
     "name": "stdout",
     "output_type": "stream",
     "text": [
      "The Mean Absolute Error: 3.19 mm of rainfall\n",
      "The Median Absolute Error: 2.06 mm of rainfall\n"
     ]
    }
   ],
   "source": [
    "from sklearn.metrics import mean_absolute_error, median_absolute_error\n",
    "print(\"The Mean Absolute Error: %.2f mm of rainfall\" % mean_absolute_error(y_test, predictions))\n",
    "print(\"The Median Absolute Error: %.2f mm of rainfall\" % median_absolute_error(y_test, predictions))"
   ]
  },
  {
   "cell_type": "code",
   "execution_count": null,
   "id": "knowing-advantage",
   "metadata": {},
   "outputs": [],
   "source": []
  }
 ],
 "metadata": {
  "kernelspec": {
   "display_name": "Python 3",
   "language": "python",
   "name": "python3"
  },
  "language_info": {
   "codemirror_mode": {
    "name": "ipython",
    "version": 3
   },
   "file_extension": ".py",
   "mimetype": "text/x-python",
   "name": "python",
   "nbconvert_exporter": "python",
   "pygments_lexer": "ipython3",
   "version": "3.7.9"
  }
 },
 "nbformat": 4,
 "nbformat_minor": 5
}
